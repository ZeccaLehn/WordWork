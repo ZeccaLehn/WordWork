{
 "metadata": {
  "name": "",
  "signature": "sha256:b80e1b2da451f5e6aff44a91a60ad9ef5a4cb82eaa97296f7fc2ef4ca542c9a5"
 },
 "nbformat": 3,
 "nbformat_minor": 0,
 "worksheets": [
  {
   "cells": [
    {
     "cell_type": "markdown",
     "metadata": {},
     "source": [
      "\n",
      "PART 1: WORD FREQUENCIES \n"
     ]
    },
    {
     "cell_type": "code",
     "collapsed": false,
     "input": [
      "\n",
      "# Linux Command from Anaconda (Prints inline): ipython notebook --matplotlib=inline\n",
      "\n",
      "import os\n",
      "\n",
      "HOME = os.environ['HOME'] # Finds computer home on Linux\n",
      "WORKINGDIR = HOME + '/anaconda/Examples/WordWork' # Points to Anaconda package\n",
      "\n",
      "WORDINPDIR = WORKINGDIR + '/wc_input' # Points to Input text files\n",
      "WORDOUTDIR =  WORKINGDIR + '/wc_output' # Points to output word counts\n"
     ],
     "language": "python",
     "metadata": {},
     "outputs": [],
     "prompt_number": 1
    },
    {
     "cell_type": "code",
     "collapsed": false,
     "input": [
      "\n",
      "os.chdir(WORDINPDIR) #Sets current directory\n",
      "Line = open('First.txt', 'r') \n",
      "print \"Example: \" + Line.read()\n"
     ],
     "language": "python",
     "metadata": {},
     "outputs": [
      {
       "output_type": "stream",
       "stream": "stdout",
       "text": [
        "Example: So call a big meeting,\n",
        "\n"
       ]
      }
     ],
     "prompt_number": 2
    },
    {
     "cell_type": "code",
     "collapsed": false,
     "input": [
      "\n",
      "allFiles = os.listdir(WORDINPDIR) # Stores files in wc_input\n",
      "print(allFiles)\n"
     ],
     "language": "python",
     "metadata": {},
     "outputs": [
      {
       "output_type": "stream",
       "stream": "stdout",
       "text": [
        "['Third.txt', 'First.txt', 'Fourth.txt', 'Second.txt']\n"
       ]
      }
     ],
     "prompt_number": 3
    },
    {
     "cell_type": "code",
     "collapsed": false,
     "input": [
      "\n",
      "Lines = \"\"\n",
      "for line in allFiles:\n",
      "    Lines += open(line, 'r').read().lower() #Sets to lower case\n",
      "    \n",
      "print(Lines)\n"
     ],
     "language": "python",
     "metadata": {},
     "outputs": [
      {
       "output_type": "stream",
       "stream": "stdout",
       "text": [
        "make every who holler,\n",
        "so call a big meeting,\n",
        "make every who shout shout.\n",
        "get everyone out out,\n",
        "\n"
       ]
      }
     ],
     "prompt_number": 4
    },
    {
     "cell_type": "code",
     "collapsed": false,
     "input": [
      "\n",
      "# Note setup from http://www.nltk.org/install.html\n",
      "# sudo pip install -U numpy \n",
      "# Downloaded then ran...\n",
      "# nltk.download()\n",
      "import nltk\n",
      "import nltk.tokenize\n",
      "from nltk import FreqDist\n",
      "from nltk.tokenize import RegexpTokenizer \n",
      "\n",
      "tokenizer = RegexpTokenizer(r'\\w+') # Inspired by: Rob Malouf on StackOverflow\n",
      "tokens = tokenizer.tokenize(Lines) # Returns a list of words without punctuation\n",
      "\n",
      "# For setting max frequency\n",
      "wordFreq = FreqDist(tokens)\n",
      "maxFreq = wordFreq[FreqDist(tokens).max()] + 1\n",
      "\n",
      "wordFreq\n"
     ],
     "language": "python",
     "metadata": {},
     "outputs": [
      {
       "metadata": {},
       "output_type": "pyout",
       "prompt_number": 5,
       "text": [
        "FreqDist({'make': 2, 'who': 2, 'shout': 2, 'every': 2, 'out': 2, 'a': 1, 'everyone': 1, 'call': 1, 'big': 1, 'so': 1, ...})"
       ]
      }
     ],
     "prompt_number": 5
    },
    {
     "cell_type": "code",
     "collapsed": false,
     "input": [
      "\n",
      "import matplotlib\n",
      "# % matplotlib inline # For plotting in iPython Notebook\n",
      "\n",
      "# Plots the counts\n",
      "import matplotlib.pyplot as plt\n",
      "\n",
      "plt.figure(figsize = [15,5])\n",
      "plt.bar(range(len(wordFreq)), wordFreq.values(), align=\"center\")\n",
      "plt.xticks(range(len(wordFreq)), list(wordFreq.keys()))\n",
      "plt.show()\n",
      "\n"
     ],
     "language": "python",
     "metadata": {},
     "outputs": [
      {
       "metadata": {},
       "output_type": "display_data",
       "png": "[encoded data removed]",
       "text": [
        "<matplotlib.figure.Figure at 0x7f00a9d1e6d0>"
       ]
      }
     ],
     "prompt_number": 6
    },
    {
     "cell_type": "code",
     "collapsed": false,
     "input": [
      "\n",
      "## Writes frequency table to 'wc_result.txt' ##\n",
      "\n",
      "import os\n",
      "import re\n",
      "import numpy as np\n",
      "import pandas as pd\n",
      "\n",
      "os.chdir(WORDOUTDIR) #Sets current directory\n",
      "\n",
      "# Removes text if already exists\n",
      "if os.path.exists('wc_result.txt'):\n",
      "    os.remove(\"wc_result.txt\")\n",
      "    \n",
      "wc = open('wc_result.txt', 'w')\n",
      "\n",
      "# Inspired from \"bytesoftly.com\" & \"truppo\" on StackOverflow\n",
      "for key in sorted(wordFreq):\n",
      "     wc.write('%s\\n' % (\"%s: %s\" % (key, wordFreq[key])))\n",
      "wc.close() \n",
      "\n",
      "\n",
      "#Returns key-value table\n",
      "pd.Series(wordFreq)\n",
      "\n"
     ],
     "language": "python",
     "metadata": {},
     "outputs": [
      {
       "metadata": {},
       "output_type": "pyout",
       "prompt_number": 7,
       "text": [
        "a           1\n",
        "big         1\n",
        "call        1\n",
        "every       2\n",
        "everyone    1\n",
        "get         1\n",
        "holler      1\n",
        "make        2\n",
        "meeting     1\n",
        "out         2\n",
        "shout       2\n",
        "so          1\n",
        "who         2\n",
        "dtype: int64"
       ]
      }
     ],
     "prompt_number": 7
    },
    {
     "cell_type": "markdown",
     "metadata": {},
     "source": [
      "\n",
      "PART TWO: RUNNING MEDIANS\n"
     ]
    },
    {
     "cell_type": "code",
     "collapsed": false,
     "input": [
      "\n",
      "allFiles = sorted(allFiles) # Sorts files by name \n",
      "print(allFiles)\n"
     ],
     "language": "python",
     "metadata": {},
     "outputs": [
      {
       "output_type": "stream",
       "stream": "stdout",
       "text": [
        "['First.txt', 'Fourth.txt', 'Second.txt', 'Third.txt']\n"
       ]
      }
     ],
     "prompt_number": 8
    },
    {
     "cell_type": "code",
     "collapsed": false,
     "input": [
      "\n",
      "os.chdir(WORDINPDIR) #Sets current directory\n",
      "\n",
      "#For setting max frequency\n",
      "Line = open(allFiles[0], 'r').read() # Reads in first line sorted by file name\n",
      "\n",
      "tokenizer = RegexpTokenizer(r'\\w+') # Inspired by: Rob Malouf on StackOverflow\n",
      "firstLine = len(tokenizer.tokenize(Line)) # Counts non-punctuation words in first by sort\n",
      "\n",
      "print(tokenizer.tokenize(Line))\n",
      "\n",
      "str(firstLine) + ' Words in first line' # Word count in first sorted line\n"
     ],
     "language": "python",
     "metadata": {},
     "outputs": [
      {
       "output_type": "stream",
       "stream": "stdout",
       "text": [
        "['So', 'call', 'a', 'big', 'meeting']\n"
       ]
      },
      {
       "metadata": {},
       "output_type": "pyout",
       "prompt_number": 9,
       "text": [
        "'5 Words in first line'"
       ]
      }
     ],
     "prompt_number": 9
    },
    {
     "cell_type": "code",
     "collapsed": false,
     "input": [
      "\n",
      "lineLen = {}\n",
      "for i in range(len(allFiles)): \n",
      "    lineLen[i] = len(tokenizer.tokenize(open(allFiles[i], 'r').read()))\n",
      "        \n",
      "#Returns sorted line counts \n",
      "for key, value in lineLen.items():\n",
      "    print allFiles[key], value\n",
      "  \n",
      "    "
     ],
     "language": "python",
     "metadata": {},
     "outputs": [
      {
       "output_type": "stream",
       "stream": "stdout",
       "text": [
        "First.txt 5\n",
        "Fourth.txt 5\n",
        "Second.txt 4\n",
        "Third.txt 4\n"
       ]
      }
     ],
     "prompt_number": 10
    },
    {
     "cell_type": "code",
     "collapsed": false,
     "input": [
      "\n",
      "# Prints cumulative medians\n",
      "\n",
      "med = {}\n",
      "for i in range(len(lineLen.values())):\n",
      "    med[i] = np.median(lineLen.values()[:i + 1])\n",
      "    \n",
      "for median in med.values():\n",
      "    print median"
     ],
     "language": "python",
     "metadata": {},
     "outputs": [
      {
       "output_type": "stream",
       "stream": "stdout",
       "text": [
        "5.0\n",
        "5.0\n",
        "5.0\n",
        "4.5\n"
       ]
      }
     ],
     "prompt_number": 11
    },
    {
     "cell_type": "code",
     "collapsed": false,
     "input": [
      "\n",
      "# Saves to med_result.txt\n",
      "os.chdir(WORDOUTDIR)\n",
      "\n",
      "# Removes text if already exists\n",
      "if os.path.exists('med_result.txt'):\n",
      "    os.remove('med_result.txt')\n",
      "    \n",
      "wc = open('med_result.txt', 'w')\n",
      "\n",
      "# Inspired from \"bytesoftly.com\" & \"truppo\" on StackOverflow\n",
      "wc.write(str(med.values()))\n",
      "\n",
      "wc.close()"
     ],
     "language": "python",
     "metadata": {},
     "outputs": [],
     "prompt_number": 12
    },
    {
     "cell_type": "code",
     "collapsed": false,
     "input": [],
     "language": "python",
     "metadata": {},
     "outputs": [],
     "prompt_number": 12
    },
    {
     "cell_type": "code",
     "collapsed": false,
     "input": [],
     "language": "python",
     "metadata": {},
     "outputs": []
    }
   ],
   "metadata": {}
  }
 ]
}